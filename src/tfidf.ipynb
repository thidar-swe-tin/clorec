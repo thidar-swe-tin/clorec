{
 "cells": [
  {
   "cell_type": "markdown",
   "metadata": {},
   "source": [
    "# Recommender System\n",
    "\n",
    "### Neighborhood-based model using Term Frequency-Inverse Document Frequency (TF-IDF) and Cosine Similarity\n",
    "\n",
    "In this notebook, a neighborhood-based model is implemented to generate recommendations for a target user, by using cosine similarities on a TF-IDF weighted utility matrix.\n",
    "\n",
    "We are using the library [`implicit`](https://github.com/benfred/implicit) to calculates tfidf_weight, [`scipy`](https://www.scipy.org) to implement sparse matrix, and [`sklearn`](http://scikit-learn.org/stable/) to calculate cosine similarity.\n",
    "\n",
    "The following steps are conducted: \n",
    "- Utlity Matrix is generated, where every entry represents a Term Frequency(TF).\n",
    "- Based on the utility matrix, a TF-IDF weight matrix is calculated.\n",
    "- Given a target user (a row in the TF-IDF matrix), the cosine similarity vector of the target user is produced.\n",
    "- Select top K similar users and use PriorityQueue to select top N products based on overall sales in the candidate recommendations."
   ]
  },
  {
   "cell_type": "code",
   "execution_count": 1,
   "metadata": {},
   "outputs": [],
   "source": [
    "### Imports\n",
    "\n",
    "from implicit.nearest_neighbours import tfidf_weight\n",
    "from scipy.sparse import coo_matrix, csr_matrix\n",
    "from sklearn.metrics.pairwise import cosine_similarity\n",
    "from datetime import datetime\n",
    "from pathlib import Path\n",
    "from numpy import bincount, log, sqrt\n",
    "\n",
    "import scipy.sparse as sparse\n",
    "import implicit\n",
    "import pandas as pd\n",
    "import numpy as np\n",
    "import pickle\n",
    "import time\n",
    "import heapq"
   ]
  },
  {
   "cell_type": "code",
   "execution_count": 2,
   "metadata": {},
   "outputs": [],
   "source": [
    "### Helper Functions\n",
    "\n",
    "def sparsity(matrix):\n",
    "    \"\"\"\n",
    "    Given a matrix, returns its sparsity\n",
    "    \"\"\"\n",
    "    total_size = matrix.shape[0] * matrix.shape[1]\n",
    "    actual_size = matrix.size\n",
    "    sparsity = (1 - (actual_size / total_size)) * 100\n",
    "    return(sparsity)\n",
    "\n",
    "\n",
    "def get_k_popular(k, df_merged_order_products_prior):\n",
    "    \"\"\"\n",
    "    Returns the `k` most popular products based on purchase count in the dataset\n",
    "    \"\"\"\n",
    "    popular_products = list(df_merged_order_products_prior[\"product_id\"].value_counts().head(k).index)\n",
    "    return popular_products\n",
    "\n",
    "\n",
    "def make_prior_data():\n",
    "    \"\"\"\n",
    "    Generates the prior dataset including prior_user_products and product_frequency\n",
    "    \"\"\"\n",
    "    # Read prior order csv\n",
    "    df_order_products_prior = pd.read_csv(\"../data/order_products__prior.csv\")\n",
    "    current_order_user_df = df_orders.loc[(df_orders.eval_set == \"prior\")].reset_index()\n",
    "    current_order_user_df = current_order_user_df[[\"order_id\", \"user_id\"]]\n",
    "\n",
    "    assert len(current_order_user_df[\"order_id\"].unique()) == len(df_order_products_prior[\"order_id\"].unique())\n",
    "\n",
    "    # Group product_id for each order into products\n",
    "    df_order_products_prior = df_order_products_prior[[\"order_id\", \"product_id\"]]\n",
    "    df_product_frequency = df_order_products_prior['product_id'].value_counts()\n",
    "    df_order_products_prior = df_order_products_prior.groupby(\"order_id\")[\"product_id\"].apply(list).reset_index().rename(columns={\"product_id\": \"products\"})\n",
    "    \n",
    "    \n",
    "    assert current_order_user_df.size == df_order_products_prior.size\n",
    "\n",
    "    df_prior_user_products = pd.merge(current_order_user_df, df_order_products_prior, on=\"order_id\")\n",
    "    df_prior_user_products = df_prior_user_products[[\"user_id\", \"products\"]]\n",
    "    df_prior_user_products = df_prior_user_products.groupby(\"user_id\")[\"products\"].agg(sum).reset_index()\n",
    "\n",
    "    return df_prior_user_products, df_product_frequency\n",
    "\n",
    "\n",
    "def make_test_data(test_data_path, df_orders, df_order_products_train):\n",
    "    \"\"\"\n",
    "    Generates the test dataset and saves it to disk at the given path\n",
    "    \"\"\"\n",
    "    start = time.time()\n",
    "    print(\"Creating test data ...\")\n",
    "\n",
    "    # Read train csv\n",
    "    df_order_user_current = df_orders.loc[(df_orders.eval_set == \"train\")].reset_index()\n",
    "    df_order_user_current = df_order_user_current[[\"order_id\", \"user_id\"]]\n",
    "    \n",
    "    # Sanity check #1: `current_order_user_df` and `df_order_products_train` should have the same number of \n",
    "    # unique order ids\n",
    "    assert len(df_order_user_current[\"order_id\"].unique()) == len(df_order_products_train[\"order_id\"].unique())\n",
    "\n",
    "    # Convert train dataframe to a similar format\n",
    "    df_order_products_test = df_order_products_train[[\"order_id\", \"product_id\"]]\n",
    "    df_order_products_test = df_order_products_test.groupby(\"order_id\")[\"product_id\"].apply(list).reset_index().rename(columns={\"product_id\": \"products\"})\n",
    "\n",
    "    # Sanity check #2: `df_order_products_test` and `df_order_user_current` should have the same number of \n",
    "    # records before attempting to merge them\n",
    "    assert df_order_products_test.size == df_order_user_current.size\n",
    "\n",
    "    # Merge on order id\n",
    "    df_user_products_test = pd.merge(df_order_user_current, df_order_products_test, on=\"order_id\")\n",
    "    df_user_products_test = df_user_products_test[[\"user_id\", \"products\"]]\n",
    "\n",
    "    # Write to disk\n",
    "    df_user_products_test.to_csv(test_data_path, index_label=False, index=False)\n",
    "    \n",
    "    print(\"Completed in {:.2f}s\".format(time.time() - start))\n",
    "\n",
    "\n",
    "def save_data_to_disk(dataframe, df_name):\n",
    "    \"\"\"\n",
    "    Save the data to disk\n",
    "    \"\"\"\n",
    "    filepath = \"../data/df_{}.pkl\".format(df_name)\n",
    "    dataframe.to_pickle(filepath)"
   ]
  },
  {
   "cell_type": "markdown",
   "metadata": {},
   "source": [
    "# Load datasets"
   ]
  },
  {
   "cell_type": "code",
   "execution_count": 3,
   "metadata": {},
   "outputs": [],
   "source": [
    "# Order datasets\n",
    "df_order_products_prior = pd.read_csv(\"../data/order_products__prior.csv\")\n",
    "df_order_products_train = pd.read_csv(\"../data/order_products__train.csv\")\n",
    "df_orders = pd.read_csv(\"../data/orders.csv\") \n",
    "\n",
    "# Products\n",
    "df_products = pd.read_csv(\"../data/products.csv\")\n",
    "\n",
    "# Merge prior orders and products\n",
    "df_merged_order_products_prior = pd.merge(df_order_products_prior, df_products, on=\"product_id\", how=\"left\")\n",
    "\n",
    "rec_items = 10\n",
    "sim_users = 5"
   ]
  },
  {
   "cell_type": "code",
   "execution_count": 4,
   "metadata": {},
   "outputs": [],
   "source": [
    "# Skip this block if you already have the df_user_products.pkl and df_product_frequency.pkl in the disk\n",
    "# Make prior data\n",
    "# Running time: 3 min\n",
    "df_prior_user_products, df_product_frequency = make_prior_data()\n",
    "\n",
    "# save data to disk, running time : 2 mi\n",
    "save_data_to_disk(df_prior_user_products, \"user_products\")\n",
    "save_data_to_disk(df_product_frequency, \"product_frequency\")"
   ]
  },
  {
   "cell_type": "code",
   "execution_count": 5,
   "metadata": {},
   "outputs": [],
   "source": [
    "# Read user_products and product_frequency from the disk\n",
    "df_prior_user_products = pd.read_pickle(\"../data/df_user_products.pkl\")\n",
    "df_product_frequency = pd.read_pickle(\"../data/df_product_frequency.pkl\")\n",
    "df_product_frequency = pd.DataFrame(df_product_frequency).rename(columns={\"product_id\": \"frequency\"})"
   ]
  },
  {
   "cell_type": "code",
   "execution_count": 6,
   "metadata": {},
   "outputs": [
    {
     "name": "stdout",
     "output_type": "stream",
     "text": [
      "Creating test data ...\n",
      "Completed in 4.25s\n"
     ]
    }
   ],
   "source": [
    "# Make test data\n",
    "REBUILD_TEST_DATA = True\n",
    "test_data_path = \"../data/user_products__test.csv\"\n",
    "if REBUILD_TEST_DATA or not Path(test_data_path).is_file():\n",
    "    make_test_data(test_data_path, df_orders, df_order_products_train)\n",
    "df_user_products_test = pd.read_csv(test_data_path)"
   ]
  },
  {
   "cell_type": "code",
   "execution_count": 7,
   "metadata": {},
   "outputs": [
    {
     "data": {
      "text/html": [
       "<div>\n",
       "<style scoped>\n",
       "    .dataframe tbody tr th:only-of-type {\n",
       "        vertical-align: middle;\n",
       "    }\n",
       "\n",
       "    .dataframe tbody tr th {\n",
       "        vertical-align: top;\n",
       "    }\n",
       "\n",
       "    .dataframe thead th {\n",
       "        text-align: right;\n",
       "    }\n",
       "</style>\n",
       "<table border=\"1\" class=\"dataframe\">\n",
       "  <thead>\n",
       "    <tr style=\"text-align: right;\">\n",
       "      <th></th>\n",
       "      <th>user_id</th>\n",
       "      <th>products</th>\n",
       "    </tr>\n",
       "  </thead>\n",
       "  <tbody>\n",
       "    <tr>\n",
       "      <th>0</th>\n",
       "      <td>1</td>\n",
       "      <td>[1]</td>\n",
       "    </tr>\n",
       "    <tr>\n",
       "      <th>1</th>\n",
       "      <td>3</td>\n",
       "      <td>[9]</td>\n",
       "    </tr>\n",
       "    <tr>\n",
       "      <th>2</th>\n",
       "      <td>5</td>\n",
       "      <td>[20]</td>\n",
       "    </tr>\n",
       "    <tr>\n",
       "      <th>3</th>\n",
       "      <td>6</td>\n",
       "      <td>[26]</td>\n",
       "    </tr>\n",
       "    <tr>\n",
       "      <th>4</th>\n",
       "      <td>7</td>\n",
       "      <td>[35]</td>\n",
       "    </tr>\n",
       "  </tbody>\n",
       "</table>\n",
       "</div>"
      ],
      "text/plain": [
       "   user_id products\n",
       "0        1      [1]\n",
       "1        3      [9]\n",
       "2        5     [20]\n",
       "3        6     [26]\n",
       "4        7     [35]"
      ]
     },
     "execution_count": 7,
     "metadata": {},
     "output_type": "execute_result"
    }
   ],
   "source": [
    "df_user_products_test.head()"
   ]
  },
  {
   "cell_type": "markdown",
   "metadata": {},
   "source": [
    "# Load Product Item Matrix"
   ]
  },
  {
   "cell_type": "code",
   "execution_count": 8,
   "metadata": {},
   "outputs": [
    {
     "name": "stdout",
     "output_type": "stream",
     "text": [
      "Creating prior user product data frame ...\n",
      "Completed in 2.38s\n"
     ]
    }
   ],
   "source": [
    "def get_user_product_prior_df(filepath, df_orders, df_order_products_prior):\n",
    "    \"\"\"\n",
    "    Generates a dataframe of users and their prior products purchases, and writes it to disk at the given path\n",
    "    \"\"\"\n",
    "    start = time.time()\n",
    "    print(\"Creating prior user product data frame ...\")\n",
    "    \n",
    "    # Consider ony \"prior\" orders and remove all columns except `user_id` from `df_orders`\n",
    "    df_order_user_prior = df_orders.loc[df_orders.eval_set == \"prior\"]\n",
    "    df_order_user_prior = df_order_user_prior[[\"order_id\", \"user_id\"]]\n",
    "    \n",
    "    # Remove all columns except order_id and user_id from df_orders and \n",
    "    # merge the above on `order_id` and remove `order_id`\n",
    "    df_merged = pd.merge(df_order_user_prior, df_order_products_prior[[\"order_id\", \"product_id\"]], on=\"order_id\")\n",
    "    df_user_product_prior = df_merged[[\"user_id\", \"product_id\"]]\n",
    "    df_user_product_prior = df_user_product_prior.groupby([\"user_id\", \"product_id\"]).size().reset_index().rename(columns={0:\"quantity\"})\n",
    "    \n",
    "    # Write to disk\n",
    "    df_user_product_prior.to_csv(filepath, index_label=False, index=False)\n",
    "\n",
    "    print(\"Completed in {:.2f}s\".format(time.time() - start))\n",
    "\n",
    "\n",
    "# Build dataframe of users, products and quantity bought using prior datasets\n",
    "REBUILD_MATRIX_DF = True\n",
    "matrix_df_path = \"../data/user_products__prior.csv\"\n",
    "if REBUILD_MATRIX_DF or not Path(matrix_df_path).is_file():\n",
    "    get_user_product_prior_df(matrix_df_path, df_orders, df_order_products_prior)\n",
    "df_user_product_prior = pd.read_csv(matrix_df_path)\n",
    "df_user_product_prior[\"user_id\"] = df_user_product_prior[\"user_id\"].astype(\"category\")\n",
    "df_user_product_prior[\"product_id\"] = df_user_product_prior[\"product_id\"].astype(\"category\")"
   ]
  },
  {
   "cell_type": "code",
   "execution_count": 9,
   "metadata": {},
   "outputs": [
    {
     "name": "stdout",
     "output_type": "stream",
     "text": [
      "Creating product user matrix ...\n",
      "Completed in 0.28s\n"
     ]
    }
   ],
   "source": [
    "def build_product_user_matrix(matrix_path, df_user_product_prior):\n",
    "    \"\"\"\n",
    "    Generates a utility matrix representing purchase history of users, and writes it to disk.\n",
    "    Rows and Columns represent products and users respectively.\n",
    "    \"\"\"\n",
    "    start = time.time()\n",
    "    print(\"Creating product user matrix ...\")\n",
    "    \n",
    "    # Make the dataframe a sparse matrix\n",
    "    df_user_product_prior[\"user_id\"] = df_user_product_prior[\"user_id\"].astype(\"category\")\n",
    "    df_user_product_prior[\"product_id\"] = df_user_product_prior[\"product_id\"].astype(\"category\")\n",
    "    product_user_matrix = sparse.coo_matrix((df_user_product_prior[\"quantity\"],\n",
    "                                            (df_user_product_prior[\"product_id\"].cat.codes.copy(),\n",
    "                                             df_user_product_prior[\"user_id\"].cat.codes.copy())))\n",
    "    \n",
    "    sparse.save_npz(matrix_path, product_user_matrix)\n",
    "    \n",
    "    print(\"Completed in {:.2f}s\".format(time.time() - start))\n",
    "\n",
    "\n",
    "# Get the `product x user` matrix\n",
    "REBUILD_MATRIX = True\n",
    "matrix_path = \"../data/product_user_matrix.npz\"\n",
    "if REBUILD_MATRIX or not Path(matrix_path).is_file():\n",
    "    build_product_user_matrix(matrix_path, df_user_product_prior)\n",
    "product_user_matrix = sparse.load_npz(matrix_path).tocsr()"
   ]
  },
  {
   "cell_type": "code",
   "execution_count": 10,
   "metadata": {},
   "outputs": [
    {
     "data": {
      "text/plain": [
       "99.99555128671498"
      ]
     },
     "execution_count": 10,
     "metadata": {},
     "output_type": "execute_result"
    }
   ],
   "source": [
    "sparsity(product_user_matrix)"
   ]
  },
  {
   "cell_type": "markdown",
   "metadata": {},
   "source": [
    "# Term Frequency-Inverse Document Frequency"
   ]
  },
  {
   "cell_type": "code",
   "execution_count": 11,
   "metadata": {},
   "outputs": [],
   "source": [
    "# Fetch Term Frequency matrix\n",
    "user_product_matrix = product_user_matrix.T"
   ]
  },
  {
   "cell_type": "code",
   "execution_count": 12,
   "metadata": {},
   "outputs": [],
   "source": [
    "def tfidf_weight(tf):\n",
    "    \"\"\"\n",
    "    Given a Term Frequency matrix\n",
    "    Returns a TF-IDF weight matrix\n",
    "    \"\"\"\n",
    "    \n",
    "    tf_idf = coo_matrix(tf)\n",
    "\n",
    "    # calculate IDF\n",
    "    N = float(tf_idf.shape[0])\n",
    "    idf = log(N / (1 + bincount(tf_idf.col)))\n",
    "\n",
    "    # apply TF-IDF adjustment\n",
    "    tf_idf.data = sqrt(tf_idf.data) * idf[tf_idf.col]\n",
    "    return tf_idf\n",
    "\n",
    "tf_idf = tfidf_weight(user_product_matrix)\n",
    "\n",
    "# convert to Compressed Sparse Row format\n",
    "tf_idf = tf_idf.tocsr()"
   ]
  },
  {
   "cell_type": "markdown",
   "metadata": {},
   "source": [
    "## Example Recommendation"
   ]
  },
  {
   "cell_type": "code",
   "execution_count": 13,
   "metadata": {},
   "outputs": [],
   "source": [
    "def generateRecommendations(target_user, cos_vec, K, N):\n",
    "    \"\"\"\n",
    "    Given a target_user (a row), a cosine similarity vector, the number of similar users K, \n",
    "          the number of products to be recommended.\n",
    "    Returns product set by target user and N recommendations\n",
    "    \"\"\"\n",
    "    \n",
    "    # Select top K similar users\n",
    "    top_K_similar_users = heapq.nlargest(K+1, range(len(cos_vec)), cos_vec.take)\n",
    "\n",
    "    # Initialize the result for recommendations\n",
    "    recommendations = []\n",
    "    \n",
    "    # Exclude the user with same purchase history (1.00000) as the target user and implement set-minus\n",
    "    products_target_user = df_prior_user_products.loc[df_prior_user_products['user_id'] == target_user_id].products\n",
    "\n",
    "    # Products of Target User\n",
    "    productset_target_user = set(products_target_user.tolist()[0])\n",
    "\n",
    "    # Fetch the preliminary recommendations\n",
    "    for similar_user_id in top_K_similar_users:\n",
    "        \n",
    "        products_similar_user = df_prior_user_products.loc[df_prior_user_products['user_id'] == similar_user_id + 1].products\n",
    "\n",
    "        # Recommend the products bought by the user who firstly differs in the purchase history from A.\n",
    "        candidate_recommendation = set(products_similar_user.tolist()[0]) - productset_target_user\n",
    "\n",
    "        # If similar_user_id equals to target_user_id or the candidate_recommendation is empty,\n",
    "        # skip current user\n",
    "        if similar_user_id == target_user_id or not candidate_recommendation: continue\n",
    "\n",
    "        # One candidate_recommendation found, and extend it to the result\n",
    "        recommendations.extend(candidate_recommendation)\n",
    "\n",
    "        # If length of recommendations exceed N, break\n",
    "        # Needed because this will ensure the recommentations are the products bought by most similar users\n",
    "        if len(recommendations) > N: break\n",
    "        \n",
    "    # Pick the top N popularity (overall sales) to recommend\n",
    "    h = []\n",
    "    for rec in recommendations:\n",
    "        heapq.heappush(h, (df_product_frequency.loc[rec]['frequency'], rec))\n",
    "        if len(h) > N:\n",
    "            heapq.heappop(h)\n",
    "            \n",
    "    return productset_target_user, [item[1] for item in h]"
   ]
  },
  {
   "cell_type": "code",
   "execution_count": 14,
   "metadata": {},
   "outputs": [
    {
     "name": "stdout",
     "output_type": "stream",
     "text": [
      "Actual products bought by User 34418:\n",
      "{6025, 10159, 113712, 1944, 2079}\n",
      "\n",
      "Recommended products for User 34418:\n",
      "[37322, 33589, 9996, 33587, 15391, 9103, 5845, 971, 55189, 1624]\n",
      "Actual products bought by User 41538:\n",
      "{24165, 92718, 25519, 130069, 130070}\n",
      "\n",
      "Recommended products for User 41538:\n",
      "[14026, 24949, 72347, 76071, 75182, 29744, 7090, 3831, 23003, 1658]\n",
      "Actual products bought by User 8132:\n",
      "{7556, 11929, 6431, 1695, 9127, 31274, 22578, 3897, 36928, 36929, 36930, 36931, 36932, 36934, 36935, 32206, 8538, 15835, 3688, 31336, 26232}\n",
      "\n",
      "Recommended products for User 8132:\n",
      "[127513, 47002, 928, 7664, 8504, 13805, 8138, 12292, 10593, 7867]\n",
      "Actual products bought by User 36218:\n",
      "{30080, 6506, 2737, 11091, 601}\n",
      "\n",
      "Recommended products for User 36218:\n",
      "[2740, 5442, 137895, 19992, 18540, 5491, 2739, 193, 194, 14724]\n",
      "Actual products bought by User 9127:\n",
      "{40609, 40610, 40611, 54276, 11589, 35180, 40174, 29744, 36978, 19956, 22932, 724, 1375}\n",
      "\n",
      "Recommended products for User 9127:\n",
      "[107910, 155001, 17877, 15707, 83502, 2879, 20490, 5625, 1969, 2793]\n",
      "Actual products bought by User 41538:\n",
      "{24165, 92718, 25519, 130069, 130070}\n",
      "\n",
      "Recommended products for User 41538:\n",
      "[14026, 24949, 72347, 76071, 75182, 29744, 7090, 3831, 23003, 1658]\n",
      "Actual products bought by User 7356:\n",
      "{77846, 140279, 34009, 34010, 34011}\n",
      "\n",
      "Recommended products for User 7356:\n",
      "[144563, 33414, 53214, 8406, 7575, 8409, 33574, 23978, 4619, 6592]\n",
      "Actual products bought by User 7588:\n",
      "{34875, 46947, 7025, 54732}\n",
      "\n",
      "Recommended products for User 7588:\n",
      "[20326, 31900, 28304, 12650, 20327, 79, 9535, 25743, 1224, 1849]\n"
     ]
    }
   ],
   "source": [
    "users = pd.read_csv(\"../Data/users.csv\")\n",
    "\n",
    "col = ['model','reviewerID','prior_products','rec_products']\n",
    "model='tfidf'\n",
    "tfidf_rec_items = pd.DataFrame(columns=col)\n",
    "\n",
    "for r, value in users.iterrows():\n",
    "    \n",
    "    target_user_id = value[0]\n",
    "    \n",
    "    # Fetch row of target user\n",
    "    target_user = tf_idf[target_user_id - 1]\n",
    "\n",
    "    # Calculate Cosine Similarity Vector of target user\n",
    "    similarities = cosine_similarity(tf_idf, target_user, False)\n",
    "\n",
    "    productset_target_user, recommendations = generateRecommendations(target_user, similarities.toarray(), sim_users, rec_items)\n",
    "    \n",
    "    print('Actual products bought by User {}:'.format(target_user_id))\n",
    "    print(productset_target_user)\n",
    "    print()\n",
    "    print('Recommended products for User {}:'.format(target_user_id))\n",
    "    print(recommendations)\n",
    "    \n",
    "    tfidf_rec_items.loc[len(tfidf_rec_items)] = [model,target_user_id,productset_target_user,recommendations]"
   ]
  },
  {
   "cell_type": "code",
   "execution_count": 15,
   "metadata": {},
   "outputs": [],
   "source": [
    "tfidf_rec_items.to_csv('../data/tfidf_rec_items.csv', index=False)"
   ]
  },
  {
   "cell_type": "code",
   "execution_count": 16,
   "metadata": {},
   "outputs": [],
   "source": [
    "# # Selecting one user to test\n",
    "# target_user_id = 1\n",
    "\n",
    "# # Fetch row of target user\n",
    "# target_user = tf_idf[target_user_id - 1]\n",
    "\n",
    "# # Calculate Cosine Similarity Vector of target user\n",
    "# similarities = cosine_similarity(tf_idf, target_user, False)\n",
    "\n",
    "# productset_target_user, recommendations = generateRecommendations(target_user, similarities.toarray(), sim_users, rec_items)"
   ]
  },
  {
   "cell_type": "code",
   "execution_count": 17,
   "metadata": {},
   "outputs": [],
   "source": [
    "# # Output the product_name of Target User's products as well as Recommendations\n",
    "# print('Actual products bought by User {}:'.format(target_user_id))\n",
    "# print(productset_target_user)\n",
    "# print()\n",
    "# print('Recommended products for User {}:'.format(target_user_id))\n",
    "# print(recommendations)"
   ]
  },
  {
   "cell_type": "markdown",
   "metadata": {},
   "source": [
    "# Evaluation"
   ]
  },
  {
   "cell_type": "code",
   "execution_count": 18,
   "metadata": {},
   "outputs": [],
   "source": [
    "# Get the 10 most popular products\n",
    "popular_products = get_k_popular(rec_items, df_merged_order_products_prior)"
   ]
  },
  {
   "cell_type": "code",
   "execution_count": 19,
   "metadata": {
    "scrolled": true
   },
   "outputs": [
    {
     "name": "stdout",
     "output_type": "stream",
     "text": [
      "Building dataframe with recall values ...\n",
      "10.0% completed, current mean of recall = 0.002789400278940028\n",
      "20.0% completed, current mean of recall = 0.0027913468248429866\n",
      "30.0% completed, current mean of recall = 0.0037226617031177293\n",
      "40.0% completed, current mean of recall = 0.004188481675392671\n",
      "50.0% completed, current mean of recall = 0.0036302708740575257\n",
      "60.0% completed, current mean of recall = 0.0039562485454968585\n",
      "70.0% completed, current mean of recall = 0.003989626969878316\n",
      "80.0% completed, current mean of recall = 0.0038401117123407227\n",
      "90.0% completed, current mean of recall = 0.003568657874321179\n",
      "Completed in 446.47s\n"
     ]
    }
   ],
   "source": [
    "def recall_score(actual, pred):\n",
    "    \"\"\"\n",
    "    Given two lists representing actual and predicted values\n",
    "    Returns the recall of the prediction\n",
    "    \"\"\"\n",
    "    if len(actual) == 0:\n",
    "        return 0\n",
    "    actual, pred = set(actual), set(pred)\n",
    "    return len(actual.intersection(pred)) / len(actual)\n",
    "\n",
    "def new_products(row):\n",
    "    \"\"\"\n",
    "    Given a row in the test dataset\n",
    "    Returns the list of new products purchased\n",
    "    \"\"\"\n",
    "    actual = row[\"products\"][1:-1]\n",
    "    actual = set([int(p.strip()) for p in actual.strip().split(\",\")])\n",
    "    products_target_user = df_prior_user_products.loc[df_prior_user_products['user_id'] == row[\"user_id\"]].products\n",
    "    liked = set(products_target_user.tolist()[0])\n",
    "    return actual - liked\n",
    "\n",
    "def popular_recommend(row):\n",
    "    \"\"\"\n",
    "    Given a row in the test dataset\n",
    "    Returns the recall score when popular products are recommended\n",
    "    \"\"\"\n",
    "    actual = new_products(row)\n",
    "    return recall_score(actual, popular_products)\n",
    "\n",
    "def tfidf_recommend(row):\n",
    "    \"\"\"\n",
    "    Given a row in the test dataset\n",
    "    Returns the recall score when our model recommends products\n",
    "    \"\"\"\n",
    "    actual = row[\"products\"][1:-1]\n",
    "    actual = [int(p.strip()) for p in actual.strip().split(\",\")]\n",
    "    target_user = tf_idf[row[\"user_id\"] - 1]\n",
    "    similarities = cosine_similarity(tf_idf, target_user, False)\n",
    "    cos_vec = similarities.toarray()\n",
    "    productset_target_user, recommended = generateRecommendations(target_user, cos_vec, sim_users, rec_items)\n",
    "\n",
    "    cur_recall_score = recall_score(actual, recommended)\n",
    "    \n",
    "    global count, progress, recall_sum\n",
    "    count += 1; recall_sum += cur_recall_score\n",
    "    if level[progress] and int(count / total * 10) - 1 == progress:\n",
    "        level[progress] = False\n",
    "        progress += 1\n",
    "        print(\"{:.1f}% completed, current mean of recall = {}\".format(progress * 10, recall_sum / count))    \n",
    "    \n",
    "    return cur_recall_score\n",
    "\n",
    "def build_eval_df(filepath, df_user_products_test, subset=None):\n",
    "    \"\"\"\n",
    "    Builds a dataframe of recall values of the baseline and our model for all the users\n",
    "    in the test data, and saves its to disk at `filepath`\n",
    "    \"\"\"\n",
    "    start = time.time()\n",
    "    print(\"Building dataframe with recall values ...\")\n",
    "    \n",
    "    df_eval = df_user_products_test.copy()\n",
    "    if subset:\n",
    "        df_eval = df_eval.sample(n=int(len(df_eval) * subset), random_state=7)\n",
    "    df_eval[\"popular_score\"] = df_eval.apply(popular_recommend, axis=1)\n",
    "    df_eval[\"tfidf_score\"] = df_eval.apply(tfidf_recommend, axis=1)\n",
    "    df_eval.to_csv(filepath, index=False) #, index_label=False)\n",
    "    \n",
    "    print(\"Completed in {:.2f}s\".format(time.time() - start))    \n",
    "\n",
    "\n",
    "# Get the dataframe with recall values of the baseline and the model\n",
    "REBUILD_EVAL_DF = True\n",
    "subset = 0.2\n",
    "\n",
    "# How many users in the test?\n",
    "total = len(df_user_products_test) * subset\n",
    "\n",
    "# Counter\n",
    "count = 0\n",
    "progress = 0\n",
    "recall_sum = 0\n",
    "level = [True] * 10\n",
    "\n",
    "# Estimated 3 hours to run 20% of the test dataset\n",
    "eval_path = \"../data/eval/eval_tfidf_{}.csv\".format(subset if subset is not None else \"full\")\n",
    "if REBUILD_EVAL_DF or not Path(eval_path).exists():\n",
    "    build_eval_df(eval_path, df_user_products_test, subset=subset)\n",
    "df_eval = pd.read_csv(eval_path)"
   ]
  },
  {
   "cell_type": "code",
   "execution_count": 20,
   "metadata": {},
   "outputs": [
    {
     "name": "stdout",
     "output_type": "stream",
     "text": [
      "Model: 0.41%\n",
      "Baseline: 0.66%\n"
     ]
    }
   ],
   "source": [
    "# Mean recall scores\n",
    "model_mean_recall, baseline_mean_recall = np.mean(df_eval[\"tfidf_score\"]), np.mean(df_eval[\"popular_score\"])\n",
    "print(\"Model: {:.2f}%\".format(model_mean_recall * 100))\n",
    "print(\"Baseline: {:.2f}%\".format(baseline_mean_recall * 100))"
   ]
  },
  {
   "cell_type": "code",
   "execution_count": null,
   "metadata": {},
   "outputs": [],
   "source": []
  }
 ],
 "metadata": {
  "kernelspec": {
   "display_name": "Python 3",
   "language": "python",
   "name": "python3"
  },
  "language_info": {
   "codemirror_mode": {
    "name": "ipython",
    "version": 3
   },
   "file_extension": ".py",
   "mimetype": "text/x-python",
   "name": "python",
   "nbconvert_exporter": "python",
   "pygments_lexer": "ipython3",
   "version": "3.7.1"
  }
 },
 "nbformat": 4,
 "nbformat_minor": 2
}
